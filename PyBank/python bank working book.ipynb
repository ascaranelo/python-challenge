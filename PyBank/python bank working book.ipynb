{
 "cells": [
  {
   "cell_type": "code",
   "execution_count": 1,
   "id": "e643cec2",
   "metadata": {},
   "outputs": [],
   "source": [
    "#import the pandas library\n",
    "import os\n",
    "import csv\n",
    "import pandas as pd\n",
    "import locale"
   ]
  },
  {
   "cell_type": "code",
   "execution_count": 2,
   "id": "2ca60071",
   "metadata": {},
   "outputs": [],
   "source": [
    "#determine the file for data analysis or the csv path\n",
    "file = \"Resources/budget_data.csv\""
   ]
  },
  {
   "cell_type": "code",
   "execution_count": 3,
   "id": "03ddb4e5",
   "metadata": {},
   "outputs": [
    {
     "data": {
      "text/html": [
       "<div>\n",
       "<style scoped>\n",
       "    .dataframe tbody tr th:only-of-type {\n",
       "        vertical-align: middle;\n",
       "    }\n",
       "\n",
       "    .dataframe tbody tr th {\n",
       "        vertical-align: top;\n",
       "    }\n",
       "\n",
       "    .dataframe thead th {\n",
       "        text-align: right;\n",
       "    }\n",
       "</style>\n",
       "<table border=\"1\" class=\"dataframe\">\n",
       "  <thead>\n",
       "    <tr style=\"text-align: right;\">\n",
       "      <th></th>\n",
       "      <th>Date</th>\n",
       "      <th>Profit/Losses</th>\n",
       "    </tr>\n",
       "  </thead>\n",
       "  <tbody>\n",
       "    <tr>\n",
       "      <th>0</th>\n",
       "      <td>Jan-10</td>\n",
       "      <td>1088983</td>\n",
       "    </tr>\n",
       "    <tr>\n",
       "      <th>1</th>\n",
       "      <td>Feb-10</td>\n",
       "      <td>-354534</td>\n",
       "    </tr>\n",
       "    <tr>\n",
       "      <th>2</th>\n",
       "      <td>Mar-10</td>\n",
       "      <td>276622</td>\n",
       "    </tr>\n",
       "    <tr>\n",
       "      <th>3</th>\n",
       "      <td>Apr-10</td>\n",
       "      <td>-728133</td>\n",
       "    </tr>\n",
       "    <tr>\n",
       "      <th>4</th>\n",
       "      <td>May-10</td>\n",
       "      <td>852993</td>\n",
       "    </tr>\n",
       "  </tbody>\n",
       "</table>\n",
       "</div>"
      ],
      "text/plain": [
       "     Date  Profit/Losses\n",
       "0  Jan-10        1088983\n",
       "1  Feb-10        -354534\n",
       "2  Mar-10         276622\n",
       "3  Apr-10        -728133\n",
       "4  May-10         852993"
      ]
     },
     "execution_count": 3,
     "metadata": {},
     "output_type": "execute_result"
    }
   ],
   "source": [
    "# read the headers into an output called original_df to find what we are looking for\n",
    "original_df = pd.read_csv(file)\n",
    "original_df.head()"
   ]
  },
  {
   "cell_type": "code",
   "execution_count": 4,
   "id": "b3358075",
   "metadata": {},
   "outputs": [
    {
     "name": "stdout",
     "output_type": "stream",
     "text": [
      "The number of months in the file is:\n",
      "86\n"
     ]
    }
   ],
   "source": [
    "# find the number of lines\n",
    "numberOfMonths = len(original_df)\n",
    "print(\"The number of months in the file is:\")\n",
    "print(numberOfMonths)"
   ]
  },
  {
   "cell_type": "code",
   "execution_count": 5,
   "id": "3c2f3171",
   "metadata": {},
   "outputs": [
    {
     "data": {
      "text/plain": [
       "0    1088983\n",
       "1    -354534\n",
       "2     276622\n",
       "3    -728133\n",
       "4     852993\n",
       "Name: Profit/Losses, dtype: int64"
      ]
     },
     "execution_count": 5,
     "metadata": {},
     "output_type": "execute_result"
    }
   ],
   "source": [
    "# repeat same thing with a different command line to show just one column \n",
    "# this does not need to be in the main py file\n",
    "original_df[\"Profit/Losses\"].head()"
   ]
  },
  {
   "cell_type": "code",
   "execution_count": 6,
   "id": "35e7af72",
   "metadata": {},
   "outputs": [
    {
     "name": "stdout",
     "output_type": "stream",
     "text": [
      "The net total amount of Profit/Losses over the entire period was:\n",
      "$22,564,198.00\n"
     ]
    }
   ],
   "source": [
    "# Calculate the net amount of profit/losses. format to $ - found code on stack abuse\n",
    "# this is one of the questions to answer and need to be placed in the main py file\n",
    "total = original_df[\"Profit/Losses\"].sum()\n",
    "print(\"The net total amount of Profit/Losses over the entire period was:\")\n",
    "total\n",
    "locale.setlocale(locale.LC_ALL, '')\n",
    "print(locale.currency(total, grouping=True))"
   ]
  },
  {
   "cell_type": "code",
   "execution_count": 7,
   "id": "b39107c9",
   "metadata": {},
   "outputs": [
    {
     "name": "stdout",
     "output_type": "stream",
     "text": [
      "The averaged amount of Profit/Losses over the entire period was:\n",
      "$262,374.40\n"
     ]
    }
   ],
   "source": [
    "# Calculate the average amounf of profit/losses. format to $ - found code on stack abuse\n",
    "# this does not need to be in the main py file\n",
    "change = original_df[\"Profit/Losses\"].mean()\n",
    "print(\"The averaged amount of Profit/Losses over the entire period was:\")\n",
    "change\n",
    "locale.setlocale(locale.LC_ALL, '')\n",
    "print(locale.currency(change, grouping=True))"
   ]
  },
  {
   "cell_type": "code",
   "execution_count": 8,
   "id": "87e2384c",
   "metadata": {},
   "outputs": [
    {
     "name": "stdout",
     "output_type": "stream",
     "text": [
      "Original DataFrame\n",
      "      Data  Profit/Losses\n",
      "0  Jan-10        1088983\n",
      "1  Feb-10        -354534\n",
      "2  Mar-10         276622 \n",
      "\n",
      "     Data  Profit/Losses  Difference\n",
      "0  Jan-10        1088983         NaN\n",
      "1  Feb-10        -354534  -1443517.0\n",
      "2  Mar-10         276622    631156.0\n"
     ]
    }
   ],
   "source": [
    "# create a new dataframe to get the information requested. \n",
    "\n",
    "#create a dictionary\n",
    "\n",
    "d = {\"Data\":['Jan-10','Feb-10','Mar-10'],\"Profit/Losses\":[1088983,-354534,276622]}\n",
    "\n",
    "#creating a DataFrame\n",
    "df = pd.DataFrame(d)\n",
    "\n",
    "#Display original DataFrame\n",
    "print(\"Original DataFrame\\n\", df, \"\\n\")\n",
    "\n",
    "#Calculating difference\n",
    "df[\"Difference\"] = df[\"Profit/Losses\"].diff()\n",
    "print (df)\n"
   ]
  },
  {
   "cell_type": "code",
   "execution_count": 9,
   "id": "fb858304",
   "metadata": {},
   "outputs": [
    {
     "name": "stdout",
     "output_type": "stream",
     "text": [
      "The averaged amount of Profit/Losses over the entire period was:\n",
      "-$406,180.50\n"
     ]
    }
   ],
   "source": [
    "# new dataframe worked. Now get the average results for this new column\n",
    "change2 = df[\"Difference\"].mean()\n",
    "print(\"The averaged amount of Profit/Losses over the entire period was:\")\n",
    "change2\n",
    "locale.setlocale(locale.LC_ALL, '')\n",
    "print(locale.currency(change2, grouping=True))"
   ]
  },
  {
   "cell_type": "code",
   "execution_count": 13,
   "id": "fa5fb66e",
   "metadata": {},
   "outputs": [
    {
     "name": "stdout",
     "output_type": "stream",
     "text": [
      "The greatest increase on Profit/Losses over the entire period was:\n"
     ]
    },
    {
     "ename": "TypeError",
     "evalue": "bad operand type for abs(): 'str'",
     "output_type": "error",
     "traceback": [
      "\u001b[0;31m---------------------------------------------------------------------------\u001b[0m",
      "\u001b[0;31mTypeError\u001b[0m                                 Traceback (most recent call last)",
      "\u001b[0;32m/var/folders/zq/rjqvh49j1zjg68tt4n6g8qyw0000gn/T/ipykernel_5811/84125915.py\u001b[0m in \u001b[0;36m<module>\u001b[0;34m\u001b[0m\n\u001b[1;32m      7\u001b[0m \u001b[0mmaxValues\u001b[0m\u001b[0;34m\u001b[0m\u001b[0;34m\u001b[0m\u001b[0m\n\u001b[1;32m      8\u001b[0m \u001b[0mlocale\u001b[0m\u001b[0;34m.\u001b[0m\u001b[0msetlocale\u001b[0m\u001b[0;34m(\u001b[0m\u001b[0mlocale\u001b[0m\u001b[0;34m.\u001b[0m\u001b[0mLC_ALL\u001b[0m\u001b[0;34m,\u001b[0m \u001b[0;34m''\u001b[0m\u001b[0;34m)\u001b[0m\u001b[0;34m\u001b[0m\u001b[0;34m\u001b[0m\u001b[0m\n\u001b[0;32m----> 9\u001b[0;31m \u001b[0mprint\u001b[0m\u001b[0;34m(\u001b[0m\u001b[0mlocale\u001b[0m\u001b[0;34m.\u001b[0m\u001b[0mcurrency\u001b[0m\u001b[0;34m(\u001b[0m\u001b[0mmaxValues\u001b[0m\u001b[0;34m,\u001b[0m \u001b[0mgrouping\u001b[0m\u001b[0;34m=\u001b[0m\u001b[0;32mTrue\u001b[0m\u001b[0;34m)\u001b[0m\u001b[0;34m)\u001b[0m\u001b[0;34m\u001b[0m\u001b[0;34m\u001b[0m\u001b[0m\n\u001b[0m",
      "\u001b[0;32m~/opt/anaconda3/envs/PythonData/lib/python3.7/locale.py\u001b[0m in \u001b[0;36mcurrency\u001b[0;34m(val, symbol, grouping, international)\u001b[0m\n\u001b[1;32m    268\u001b[0m                          \"the 'C' locale.\")\n\u001b[1;32m    269\u001b[0m \u001b[0;34m\u001b[0m\u001b[0m\n\u001b[0;32m--> 270\u001b[0;31m     \u001b[0ms\u001b[0m \u001b[0;34m=\u001b[0m \u001b[0m_format\u001b[0m\u001b[0;34m(\u001b[0m\u001b[0;34m'%%.%if'\u001b[0m \u001b[0;34m%\u001b[0m \u001b[0mdigits\u001b[0m\u001b[0;34m,\u001b[0m \u001b[0mabs\u001b[0m\u001b[0;34m(\u001b[0m\u001b[0mval\u001b[0m\u001b[0;34m)\u001b[0m\u001b[0;34m,\u001b[0m \u001b[0mgrouping\u001b[0m\u001b[0;34m,\u001b[0m \u001b[0mmonetary\u001b[0m\u001b[0;34m=\u001b[0m\u001b[0;32mTrue\u001b[0m\u001b[0;34m)\u001b[0m\u001b[0;34m\u001b[0m\u001b[0;34m\u001b[0m\u001b[0m\n\u001b[0m\u001b[1;32m    271\u001b[0m     \u001b[0;31m# '<' and '>' are markers if the sign must be inserted between symbol and value\u001b[0m\u001b[0;34m\u001b[0m\u001b[0;34m\u001b[0m\u001b[0;34m\u001b[0m\u001b[0m\n\u001b[1;32m    272\u001b[0m     \u001b[0ms\u001b[0m \u001b[0;34m=\u001b[0m \u001b[0;34m'<'\u001b[0m \u001b[0;34m+\u001b[0m \u001b[0ms\u001b[0m \u001b[0;34m+\u001b[0m \u001b[0;34m'>'\u001b[0m\u001b[0;34m\u001b[0m\u001b[0;34m\u001b[0m\u001b[0m\n",
      "\u001b[0;32m~/opt/anaconda3/envs/PythonData/lib/python3.7/site-packages/pandas/core/generic.py\u001b[0m in \u001b[0;36m__abs__\u001b[0;34m(self)\u001b[0m\n\u001b[1;32m   1508\u001b[0m \u001b[0;34m\u001b[0m\u001b[0m\n\u001b[1;32m   1509\u001b[0m     \u001b[0;32mdef\u001b[0m \u001b[0m__abs__\u001b[0m\u001b[0;34m(\u001b[0m\u001b[0mself\u001b[0m\u001b[0;34m:\u001b[0m \u001b[0mFrameOrSeries\u001b[0m\u001b[0;34m)\u001b[0m \u001b[0;34m->\u001b[0m \u001b[0mFrameOrSeries\u001b[0m\u001b[0;34m:\u001b[0m\u001b[0;34m\u001b[0m\u001b[0;34m\u001b[0m\u001b[0m\n\u001b[0;32m-> 1510\u001b[0;31m         \u001b[0;32mreturn\u001b[0m \u001b[0mself\u001b[0m\u001b[0;34m.\u001b[0m\u001b[0mabs\u001b[0m\u001b[0;34m(\u001b[0m\u001b[0;34m)\u001b[0m\u001b[0;34m\u001b[0m\u001b[0;34m\u001b[0m\u001b[0m\n\u001b[0m\u001b[1;32m   1511\u001b[0m \u001b[0;34m\u001b[0m\u001b[0m\n\u001b[1;32m   1512\u001b[0m     \u001b[0;32mdef\u001b[0m \u001b[0m__round__\u001b[0m\u001b[0;34m(\u001b[0m\u001b[0mself\u001b[0m\u001b[0;34m:\u001b[0m \u001b[0mFrameOrSeries\u001b[0m\u001b[0;34m,\u001b[0m \u001b[0mdecimals\u001b[0m\u001b[0;34m:\u001b[0m \u001b[0mint\u001b[0m \u001b[0;34m=\u001b[0m \u001b[0;36m0\u001b[0m\u001b[0;34m)\u001b[0m \u001b[0;34m->\u001b[0m \u001b[0mFrameOrSeries\u001b[0m\u001b[0;34m:\u001b[0m\u001b[0;34m\u001b[0m\u001b[0;34m\u001b[0m\u001b[0m\n",
      "\u001b[0;32m~/opt/anaconda3/envs/PythonData/lib/python3.7/site-packages/pandas/core/generic.py\u001b[0m in \u001b[0;36mabs\u001b[0;34m(self)\u001b[0m\n\u001b[1;32m   9598\u001b[0m         \u001b[0;36m3\u001b[0m    \u001b[0;36m7\u001b[0m   \u001b[0;36m40\u001b[0m  \u001b[0;34m-\u001b[0m\u001b[0;36m50\u001b[0m\u001b[0;34m\u001b[0m\u001b[0;34m\u001b[0m\u001b[0m\n\u001b[1;32m   9599\u001b[0m         \"\"\"\n\u001b[0;32m-> 9600\u001b[0;31m         \u001b[0;32mreturn\u001b[0m \u001b[0mnp\u001b[0m\u001b[0;34m.\u001b[0m\u001b[0mabs\u001b[0m\u001b[0;34m(\u001b[0m\u001b[0mself\u001b[0m\u001b[0;34m)\u001b[0m\u001b[0;34m\u001b[0m\u001b[0;34m\u001b[0m\u001b[0m\n\u001b[0m\u001b[1;32m   9601\u001b[0m \u001b[0;34m\u001b[0m\u001b[0m\n\u001b[1;32m   9602\u001b[0m     def describe(\n",
      "\u001b[0;32m~/opt/anaconda3/envs/PythonData/lib/python3.7/site-packages/pandas/core/series.py\u001b[0m in \u001b[0;36m__array_ufunc__\u001b[0;34m(self, ufunc, method, *inputs, **kwargs)\u001b[0m\n\u001b[1;32m    677\u001b[0m \u001b[0;34m\u001b[0m\u001b[0m\n\u001b[1;32m    678\u001b[0m         \u001b[0minputs\u001b[0m \u001b[0;34m=\u001b[0m \u001b[0mtuple\u001b[0m\u001b[0;34m(\u001b[0m\u001b[0mextract_array\u001b[0m\u001b[0;34m(\u001b[0m\u001b[0mx\u001b[0m\u001b[0;34m,\u001b[0m \u001b[0mextract_numpy\u001b[0m\u001b[0;34m=\u001b[0m\u001b[0;32mTrue\u001b[0m\u001b[0;34m)\u001b[0m \u001b[0;32mfor\u001b[0m \u001b[0mx\u001b[0m \u001b[0;32min\u001b[0m \u001b[0minputs\u001b[0m\u001b[0;34m)\u001b[0m\u001b[0;34m\u001b[0m\u001b[0;34m\u001b[0m\u001b[0m\n\u001b[0;32m--> 679\u001b[0;31m         \u001b[0mresult\u001b[0m \u001b[0;34m=\u001b[0m \u001b[0mgetattr\u001b[0m\u001b[0;34m(\u001b[0m\u001b[0mufunc\u001b[0m\u001b[0;34m,\u001b[0m \u001b[0mmethod\u001b[0m\u001b[0;34m)\u001b[0m\u001b[0;34m(\u001b[0m\u001b[0;34m*\u001b[0m\u001b[0minputs\u001b[0m\u001b[0;34m,\u001b[0m \u001b[0;34m**\u001b[0m\u001b[0mkwargs\u001b[0m\u001b[0;34m)\u001b[0m\u001b[0;34m\u001b[0m\u001b[0;34m\u001b[0m\u001b[0m\n\u001b[0m\u001b[1;32m    680\u001b[0m \u001b[0;34m\u001b[0m\u001b[0m\n\u001b[1;32m    681\u001b[0m         \u001b[0mname\u001b[0m\u001b[0;34m:\u001b[0m \u001b[0mOptional\u001b[0m\u001b[0;34m[\u001b[0m\u001b[0mHashable\u001b[0m\u001b[0;34m]\u001b[0m\u001b[0;34m\u001b[0m\u001b[0;34m\u001b[0m\u001b[0m\n",
      "\u001b[0;31mTypeError\u001b[0m: bad operand type for abs(): 'str'"
     ]
    }
   ],
   "source": [
    "# then add greatest increase in profits\n",
    "df = pd.DataFrame(d)\n",
    "maxValues = df[[\"Data\",\"Profit/Losses\"]].max()\n",
    "\n",
    "print(\"The greatest increase on Profit/Losses over the entire period was:\")\n",
    "\n",
    "maxValues\n",
    "locale.setlocale(locale.LC_ALL, '')\n",
    "print(locale.currency(maxValues, grouping=True))    "
   ]
  },
  {
   "cell_type": "code",
   "execution_count": null,
   "id": "96bb6cd6",
   "metadata": {},
   "outputs": [],
   "source": [
    "# then add greatest decrease in profits\n",
    "df = pd.DataFrame(d)\n",
    "minValues = df[\"Profit/Losses\"].min()\n",
    "print(\"The greatest decrease on Profit/Losses over the entire period was:\")\n",
    "minValues\n",
    "locale.setlocale(locale.LC_ALL, '')\n",
    "print(locale.currency(minValues, grouping=True))   "
   ]
  },
  {
   "cell_type": "code",
   "execution_count": null,
   "id": "9b24b834",
   "metadata": {},
   "outputs": [],
   "source": []
  }
 ],
 "metadata": {
  "kernelspec": {
   "display_name": "PythonData",
   "language": "python",
   "name": "pythondata"
  },
  "language_info": {
   "codemirror_mode": {
    "name": "ipython",
    "version": 3
   },
   "file_extension": ".py",
   "mimetype": "text/x-python",
   "name": "python",
   "nbconvert_exporter": "python",
   "pygments_lexer": "ipython3",
   "version": "3.7.7"
  }
 },
 "nbformat": 4,
 "nbformat_minor": 5
}
