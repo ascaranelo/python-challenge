{
 "cells": [
  {
   "cell_type": "code",
   "execution_count": null,
   "id": "2db06dce",
   "metadata": {},
   "outputs": [],
   "source": [
    "#import the pandas library\n",
    "import os\n",
    "import csv\n",
    "import pandas as pd\n",
    "import locale"
   ]
  },
  {
   "cell_type": "code",
   "execution_count": null,
   "id": "380c62e2",
   "metadata": {},
   "outputs": [],
   "source": [
    "#determine the file for data analysis or the csv path\n",
    "file = \"Resources/budget_data.csv\""
   ]
  },
  {
   "cell_type": "code",
   "execution_count": null,
   "id": "f3c97ec9",
   "metadata": {},
   "outputs": [],
   "source": [
    "# read the headers into an output called original_df to find what we are looking for\n",
    "original_df = pd.read_csv(file)\n",
    "original_df.head()"
   ]
  },
  {
   "cell_type": "code",
   "execution_count": null,
   "id": "713e11e6",
   "metadata": {},
   "outputs": [],
   "source": [
    "# find the number of lines\n",
    "numberOfMonths = len(original_df)\n",
    "print(\"The number of months in the file is:\")\n",
    "print(numberOfMonths)"
   ]
  },
  {
   "cell_type": "code",
   "execution_count": null,
   "id": "ca29ec1e",
   "metadata": {},
   "outputs": [],
   "source": [
    "# repeat same thing with a different command line to show just one column \n",
    "# this does not need to be in the main py file\n",
    "original_df[\"Profit/Losses\"].head()"
   ]
  },
  {
   "cell_type": "code",
   "execution_count": null,
   "id": "7b61a672",
   "metadata": {},
   "outputs": [],
   "source": [
    "# Calculate the net amount of profit/losses. format to $ - found code on stack abuse\n",
    "# this is one of the questions to answer and need to be placed in the main py file\n",
    "total = original_df[\"Profit/Losses\"].sum()\n",
    "print(\"The net total amount of Profit/Losses over the entire period was:\")\n",
    "total\n",
    "locale.setlocale(locale.LC_ALL, '')\n",
    "print(locale.currency(total, grouping=True))"
   ]
  },
  {
   "cell_type": "code",
   "execution_count": null,
   "id": "f54e9d24",
   "metadata": {},
   "outputs": [],
   "source": [
    "# Calculate the average amounf of profit/losses. format to $ - found code on stack abuse\n",
    "# this does not need to be in the main py file\n",
    "change = original_df[\"Profit/Losses\"].mean()\n",
    "print(\"The averaged amount of Profit/Losses over the entire period was:\")\n",
    "change\n",
    "locale.setlocale(locale.LC_ALL, '')\n",
    "print(locale.currency(change, grouping=True))"
   ]
  },
  {
   "cell_type": "code",
   "execution_count": null,
   "id": "84ed8935",
   "metadata": {},
   "outputs": [],
   "source": [
    "# create a new dataframe to get the information requested. \n",
    "\n",
    "#create a dictionary\n",
    "\n",
    "d = {\"Data\":['Jan-10','Feb-10','Mar-10'],\"Profit/Losses\":[1088983,-354534,276622]}\n",
    "\n",
    "#creating a DataFrame\n",
    "df = pd.DataFrame(d)\n",
    "\n",
    "#Display original DataFrame\n",
    "print(\"Original DataFrame\\n\", df, \"\\n\")\n",
    "\n",
    "#Calculating difference\n",
    "df[\"Difference\"] = df[\"Profit/Losses\"].diff()\n",
    "print (df)\n"
   ]
  },
  {
   "cell_type": "code",
   "execution_count": null,
   "id": "132dc7a2",
   "metadata": {},
   "outputs": [],
   "source": [
    "# new dataframe worked. Now get the average results for this new column\n",
    "change2 = df[\"Difference\"].mean()\n",
    "print(\"The averaged amount of Profit/Losses over the entire period was:\")\n",
    "change2\n",
    "locale.setlocale(locale.LC_ALL, '')\n",
    "print(locale.currency(change2, grouping=True))"
   ]
  },
  {
   "cell_type": "code",
   "execution_count": null,
   "id": "a16cb84b",
   "metadata": {},
   "outputs": [],
   "source": [
    "# find the column name of the greatest increase\n",
    "df = pd.DataFrame(d)\n",
    "maxValuesIndex = df[\"Data\"].max()\n",
    "maxValues = df[\"Profit/Losses\"].max()\n",
    "\n",
    "print(\"The greatest increase on Profit/Losses over the entire period was:\")\n",
    "print(maxValuesIndex)\n",
    "maxValues\n",
    "locale.setlocale(locale.LC_ALL, '')\n",
    "print(locale.currency(maxValues, grouping=True))    "
   ]
  },
  {
   "cell_type": "code",
   "execution_count": null,
   "id": "c8bc2ab5",
   "metadata": {},
   "outputs": [],
   "source": [
    "# find the column name of the greatest increase\n",
    "maxValuesIndex = df[\"Data\"].max()\n",
    "print(\"The greatest increase on Profit/losses happened:\")\n",
    "print(maxValuesIndex)"
   ]
  },
  {
   "cell_type": "code",
   "execution_count": null,
   "id": "3ddc5e04",
   "metadata": {},
   "outputs": [],
   "source": [
    "# then add greatest decrease in profits\n",
    "df = pd.DataFrame(d)\n",
    "minValuesIndex = df[\"Data\"].min()\n",
    "minValues = df[\"Profit/Losses\"].min()\n",
    "\n",
    "print(\"The greatest decrease on Profit/Losses over the entire period was:\")\n",
    "print (minValuesIndex)\n",
    "minValues\n",
    "locale.setlocale(locale.LC_ALL, '')\n",
    "print(locale.currency(minValues, grouping=True))   "
   ]
  },
  {
   "cell_type": "code",
   "execution_count": null,
   "id": "7a79dc59",
   "metadata": {},
   "outputs": [],
   "source": [
    "#final script should both print the analysis to the terminal -mission accomplished\n"
   ]
  },
  {
   "cell_type": "code",
   "execution_count": null,
   "id": "13b7cd2a",
   "metadata": {},
   "outputs": [],
   "source": [
    "#final script should export a text file with the results"
   ]
  }
 ],
 "metadata": {
  "kernelspec": {
   "display_name": "PythonData",
   "language": "python",
   "name": "pythondata"
  },
  "language_info": {
   "codemirror_mode": {
    "name": "ipython",
    "version": 3
   },
   "file_extension": ".py",
   "mimetype": "text/x-python",
   "name": "python",
   "nbconvert_exporter": "python",
   "pygments_lexer": "ipython3",
   "version": "3.7.7"
  }
 },
 "nbformat": 4,
 "nbformat_minor": 5
}
