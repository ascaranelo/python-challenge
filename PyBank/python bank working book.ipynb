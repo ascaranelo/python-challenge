{
 "cells": [
  {
   "cell_type": "code",
   "execution_count": 1,
   "id": "26a36005",
   "metadata": {},
   "outputs": [],
   "source": [
    "#import the pandas library\n",
    "import os\n",
    "import csv\n",
    "import pandas as pd\n",
    "import locale"
   ]
  },
  {
   "cell_type": "code",
   "execution_count": 2,
   "id": "ab0e3d2c",
   "metadata": {},
   "outputs": [],
   "source": [
    "#determine the file for data analysis or the csv path\n",
    "file = \"Resources/budget_data.csv\""
   ]
  },
  {
   "cell_type": "code",
   "execution_count": 3,
   "id": "339d12be",
   "metadata": {},
   "outputs": [
    {
     "data": {
      "text/html": [
       "<div>\n",
       "<style scoped>\n",
       "    .dataframe tbody tr th:only-of-type {\n",
       "        vertical-align: middle;\n",
       "    }\n",
       "\n",
       "    .dataframe tbody tr th {\n",
       "        vertical-align: top;\n",
       "    }\n",
       "\n",
       "    .dataframe thead th {\n",
       "        text-align: right;\n",
       "    }\n",
       "</style>\n",
       "<table border=\"1\" class=\"dataframe\">\n",
       "  <thead>\n",
       "    <tr style=\"text-align: right;\">\n",
       "      <th></th>\n",
       "      <th>Date</th>\n",
       "      <th>Profit/Losses</th>\n",
       "    </tr>\n",
       "  </thead>\n",
       "  <tbody>\n",
       "    <tr>\n",
       "      <th>0</th>\n",
       "      <td>Jan-10</td>\n",
       "      <td>1088983</td>\n",
       "    </tr>\n",
       "    <tr>\n",
       "      <th>1</th>\n",
       "      <td>Feb-10</td>\n",
       "      <td>-354534</td>\n",
       "    </tr>\n",
       "    <tr>\n",
       "      <th>2</th>\n",
       "      <td>Mar-10</td>\n",
       "      <td>276622</td>\n",
       "    </tr>\n",
       "    <tr>\n",
       "      <th>3</th>\n",
       "      <td>Apr-10</td>\n",
       "      <td>-728133</td>\n",
       "    </tr>\n",
       "    <tr>\n",
       "      <th>4</th>\n",
       "      <td>May-10</td>\n",
       "      <td>852993</td>\n",
       "    </tr>\n",
       "  </tbody>\n",
       "</table>\n",
       "</div>"
      ],
      "text/plain": [
       "     Date  Profit/Losses\n",
       "0  Jan-10        1088983\n",
       "1  Feb-10        -354534\n",
       "2  Mar-10         276622\n",
       "3  Apr-10        -728133\n",
       "4  May-10         852993"
      ]
     },
     "execution_count": 3,
     "metadata": {},
     "output_type": "execute_result"
    }
   ],
   "source": [
    "# read the headers to find what we are looking for\n",
    "original_df = pd.read_csv(file)\n",
    "original_df.head()"
   ]
  },
  {
   "cell_type": "code",
   "execution_count": 4,
   "id": "47dc0c76",
   "metadata": {},
   "outputs": [
    {
     "name": "stdout",
     "output_type": "stream",
     "text": [
      "The number of months in the file is:\n",
      "86\n"
     ]
    }
   ],
   "source": [
    "# find the number of lines\n",
    "numberOfMonths = len(original_df)\n",
    "print(\"The number of months in the file is:\")\n",
    "print(numberOfMonths)"
   ]
  },
  {
   "cell_type": "code",
   "execution_count": 5,
   "id": "830b3335",
   "metadata": {},
   "outputs": [
    {
     "data": {
      "text/plain": [
       "0    1088983\n",
       "1    -354534\n",
       "2     276622\n",
       "3    -728133\n",
       "4     852993\n",
       "Name: Profit/Losses, dtype: int64"
      ]
     },
     "execution_count": 5,
     "metadata": {},
     "output_type": "execute_result"
    }
   ],
   "source": [
    "original_df[\"Profit/Losses\"].head()"
   ]
  },
  {
   "cell_type": "code",
   "execution_count": 6,
   "id": "e9a95785",
   "metadata": {},
   "outputs": [
    {
     "name": "stdout",
     "output_type": "stream",
     "text": [
      "The net total amount of Profit/Losses over the entire period is:\n",
      "$22,564,198.00\n"
     ]
    }
   ],
   "source": [
    "# Calculate the net amount of profit/losses. format to $ - found code on stack abuse\n",
    "total = original_df[\"Profit/Losses\"].sum()\n",
    "print(\"The net total amount of Profit/Losses over the entire period is:\")\n",
    "total\n",
    "locale.setlocale(locale.LC_ALL, '')\n",
    "print(locale.currency(total, grouping=True))"
   ]
  },
  {
   "cell_type": "code",
   "execution_count": 7,
   "id": "80a3b426",
   "metadata": {},
   "outputs": [
    {
     "name": "stdout",
     "output_type": "stream",
     "text": [
      "The averaged amount of Profit/Losses over the entire period is:\n",
      "$262,374.40\n"
     ]
    }
   ],
   "source": [
    "# Calculate the average amounf of profit/losses. format to $ - found code on stack abuse\n",
    "change = original_df[\"Profit/Losses\"].mean()\n",
    "print(\"The averaged amount of Profit/Losses over the entire period is:\")\n",
    "change\n",
    "locale.setlocale(locale.LC_ALL, '')\n",
    "print(locale.currency(change, grouping=True))"
   ]
  },
  {
   "cell_type": "code",
   "execution_count": null,
   "id": "8adc9be9",
   "metadata": {},
   "outputs": [],
   "source": [
    "# Use a for to get the information requested. \n",
    "#Changes in Profit and Losses, greatest increase & decrease in profits\n",
    "\n",
    "\n"
   ]
  },
  {
   "cell_type": "code",
   "execution_count": null,
   "id": "a0df86e3",
   "metadata": {},
   "outputs": [],
   "source": []
  }
 ],
 "metadata": {
  "kernelspec": {
   "display_name": "PythonData",
   "language": "python",
   "name": "pythondata"
  },
  "language_info": {
   "codemirror_mode": {
    "name": "ipython",
    "version": 3
   },
   "file_extension": ".py",
   "mimetype": "text/x-python",
   "name": "python",
   "nbconvert_exporter": "python",
   "pygments_lexer": "ipython3",
   "version": "3.7.7"
  }
 },
 "nbformat": 4,
 "nbformat_minor": 5
}
