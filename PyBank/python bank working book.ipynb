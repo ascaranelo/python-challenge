{
 "cells": [
  {
   "cell_type": "code",
   "execution_count": 1,
   "id": "92ebd4df",
   "metadata": {},
   "outputs": [],
   "source": [
    "#import the pandas library\n",
    "import os\n",
    "import csv\n",
    "import pandas as pd\n",
    "import locale"
   ]
  },
  {
   "cell_type": "code",
   "execution_count": 2,
   "id": "f0fa3e73",
   "metadata": {},
   "outputs": [],
   "source": [
    "#determine the file for data analysis or the csv path\n",
    "file = \"Resources/budget_data.csv\""
   ]
  },
  {
   "cell_type": "code",
   "execution_count": 3,
   "id": "e24e49c6",
   "metadata": {},
   "outputs": [
    {
     "data": {
      "text/html": [
       "<div>\n",
       "<style scoped>\n",
       "    .dataframe tbody tr th:only-of-type {\n",
       "        vertical-align: middle;\n",
       "    }\n",
       "\n",
       "    .dataframe tbody tr th {\n",
       "        vertical-align: top;\n",
       "    }\n",
       "\n",
       "    .dataframe thead th {\n",
       "        text-align: right;\n",
       "    }\n",
       "</style>\n",
       "<table border=\"1\" class=\"dataframe\">\n",
       "  <thead>\n",
       "    <tr style=\"text-align: right;\">\n",
       "      <th></th>\n",
       "      <th>Date</th>\n",
       "      <th>Profit/Losses</th>\n",
       "    </tr>\n",
       "  </thead>\n",
       "  <tbody>\n",
       "    <tr>\n",
       "      <th>0</th>\n",
       "      <td>Jan-10</td>\n",
       "      <td>1088983</td>\n",
       "    </tr>\n",
       "    <tr>\n",
       "      <th>1</th>\n",
       "      <td>Feb-10</td>\n",
       "      <td>-354534</td>\n",
       "    </tr>\n",
       "    <tr>\n",
       "      <th>2</th>\n",
       "      <td>Mar-10</td>\n",
       "      <td>276622</td>\n",
       "    </tr>\n",
       "    <tr>\n",
       "      <th>3</th>\n",
       "      <td>Apr-10</td>\n",
       "      <td>-728133</td>\n",
       "    </tr>\n",
       "    <tr>\n",
       "      <th>4</th>\n",
       "      <td>May-10</td>\n",
       "      <td>852993</td>\n",
       "    </tr>\n",
       "  </tbody>\n",
       "</table>\n",
       "</div>"
      ],
      "text/plain": [
       "     Date  Profit/Losses\n",
       "0  Jan-10        1088983\n",
       "1  Feb-10        -354534\n",
       "2  Mar-10         276622\n",
       "3  Apr-10        -728133\n",
       "4  May-10         852993"
      ]
     },
     "execution_count": 3,
     "metadata": {},
     "output_type": "execute_result"
    }
   ],
   "source": [
    "# read the headers into an output called original_df to find what we are looking for\n",
    "original_df = pd.read_csv(file)\n",
    "original_df.head()"
   ]
  },
  {
   "cell_type": "code",
   "execution_count": 4,
   "id": "ccd4d5ba",
   "metadata": {},
   "outputs": [
    {
     "name": "stdout",
     "output_type": "stream",
     "text": [
      "The number of months in the file is:\n",
      "86\n"
     ]
    }
   ],
   "source": [
    "# find the number of lines\n",
    "numberOfMonths = len(original_df)\n",
    "print(\"The number of months in the file is:\")\n",
    "print(numberOfMonths)"
   ]
  },
  {
   "cell_type": "code",
   "execution_count": 5,
   "id": "05f76d80",
   "metadata": {},
   "outputs": [
    {
     "data": {
      "text/plain": [
       "0    1088983\n",
       "1    -354534\n",
       "2     276622\n",
       "3    -728133\n",
       "4     852993\n",
       "Name: Profit/Losses, dtype: int64"
      ]
     },
     "execution_count": 5,
     "metadata": {},
     "output_type": "execute_result"
    }
   ],
   "source": [
    "# repeat same thing with a different command line to show just one column \n",
    "# this does not need to be in the main py file\n",
    "original_df[\"Profit/Losses\"].head()"
   ]
  },
  {
   "cell_type": "code",
   "execution_count": 6,
   "id": "d8a42f74",
   "metadata": {},
   "outputs": [
    {
     "name": "stdout",
     "output_type": "stream",
     "text": [
      "The net total amount of Profit/Losses over the entire period was:\n",
      "$22,564,198.00\n"
     ]
    }
   ],
   "source": [
    "# Calculate the net amount of profit/losses. format to $ - found code on stack abuse\n",
    "# this is one of the questions to answer and need to be placed in the main py file\n",
    "total = original_df[\"Profit/Losses\"].sum()\n",
    "print(\"The net total amount of Profit/Losses over the entire period was:\")\n",
    "total\n",
    "locale.setlocale(locale.LC_ALL, '')\n",
    "print(locale.currency(total, grouping=True))"
   ]
  },
  {
   "cell_type": "code",
   "execution_count": 7,
   "id": "b084ae68",
   "metadata": {},
   "outputs": [
    {
     "name": "stdout",
     "output_type": "stream",
     "text": [
      "The averaged amount of Profit/Losses over the entire period was:\n",
      "$262,374.40\n"
     ]
    }
   ],
   "source": [
    "# Calculate the average amounf of profit/losses. format to $ - found code on stack abuse\n",
    "# this does not need to be in the main py file\n",
    "change = original_df[\"Profit/Losses\"].mean()\n",
    "print(\"The averaged amount of Profit/Losses over the entire period was:\")\n",
    "change\n",
    "locale.setlocale(locale.LC_ALL, '')\n",
    "print(locale.currency(change, grouping=True))"
   ]
  },
  {
   "cell_type": "code",
   "execution_count": 8,
   "id": "ce65c43b",
   "metadata": {},
   "outputs": [
    {
     "name": "stdout",
     "output_type": "stream",
     "text": [
      "Original DataFrame\n",
      "      Data  Profit/Losses\n",
      "0  Jan-10        1088983\n",
      "1  Feb-10        -354534\n",
      "2  Mar-10         276622 \n",
      "\n",
      "     Data  Profit/Losses  Difference\n",
      "0  Jan-10        1088983         NaN\n",
      "1  Feb-10        -354534  -1443517.0\n",
      "2  Mar-10         276622    631156.0\n"
     ]
    }
   ],
   "source": [
    "# create a new dataframe to get the information requested. \n",
    "\n",
    "#create a dictionary\n",
    "\n",
    "d = {\"Data\":['Jan-10','Feb-10','Mar-10'],\"Profit/Losses\":[1088983,-354534,276622]}\n",
    "\n",
    "#creating a DataFrame\n",
    "df = pd.DataFrame(d)\n",
    "\n",
    "#Display original DataFrame\n",
    "print(\"Original DataFrame\\n\", df, \"\\n\")\n",
    "\n",
    "#Calculating difference\n",
    "df[\"Difference\"] = df[\"Profit/Losses\"].diff()\n",
    "print (df)\n"
   ]
  },
  {
   "cell_type": "code",
   "execution_count": 9,
   "id": "602abaa2",
   "metadata": {},
   "outputs": [
    {
     "name": "stdout",
     "output_type": "stream",
     "text": [
      "The averaged amount of Profit/Losses over the entire period was:\n",
      "-$406,180.50\n"
     ]
    }
   ],
   "source": [
    "# new dataframe worked. Now get the average results for this new column\n",
    "change2 = df[\"Difference\"].mean()\n",
    "print(\"The averaged amount of Profit/Losses over the entire period was:\")\n",
    "change2\n",
    "locale.setlocale(locale.LC_ALL, '')\n",
    "print(locale.currency(change2, grouping=True))"
   ]
  },
  {
   "cell_type": "code",
   "execution_count": 10,
   "id": "9d899a45",
   "metadata": {},
   "outputs": [
    {
     "name": "stdout",
     "output_type": "stream",
     "text": [
      "The greatest increase on Profit/Losses over the entire period was:\n",
      "Mar-10\n",
      "$1,088,983.00\n"
     ]
    }
   ],
   "source": [
    "# find the column name of the greatest increase\n",
    "df = pd.DataFrame(d)\n",
    "maxValuesIndex = df[\"Data\"].max()\n",
    "maxValues = df[\"Profit/Losses\"].max()\n",
    "\n",
    "print(\"The greatest increase on Profit/Losses over the entire period was:\")\n",
    "print(maxValuesIndex)\n",
    "maxValues\n",
    "locale.setlocale(locale.LC_ALL, '')\n",
    "print(locale.currency(maxValues, grouping=True))    "
   ]
  },
  {
   "cell_type": "code",
   "execution_count": 11,
   "id": "1c58c27d",
   "metadata": {},
   "outputs": [
    {
     "name": "stdout",
     "output_type": "stream",
     "text": [
      "The greatest decrease on Profit/Losses over the entire period was:\n",
      "Feb-10\n",
      "-$354,534.00\n"
     ]
    }
   ],
   "source": [
    "# then add greatest decrease in profits\n",
    "df = pd.DataFrame(d)\n",
    "minValuesIndex = df[\"Data\"].min()\n",
    "minValues = df[\"Profit/Losses\"].min()\n",
    "\n",
    "print(\"The greatest decrease on Profit/Losses over the entire period was:\")\n",
    "print (minValuesIndex)\n",
    "minValues\n",
    "locale.setlocale(locale.LC_ALL, '')\n",
    "print(locale.currency(minValues, grouping=True))   "
   ]
  },
  {
   "cell_type": "code",
   "execution_count": null,
   "id": "ef8dd743",
   "metadata": {},
   "outputs": [],
   "source": [
    "#final script should both print the analysis to the terminal -mission accomplished\n"
   ]
  },
  {
   "cell_type": "code",
   "execution_count": 12,
   "id": "09a776e6",
   "metadata": {},
   "outputs": [],
   "source": [
    "#final script should export a text file with the results\n",
    "f = open(\"PythonBankResults\", \"w\")\n",
    "L = [\"FINANCIAL ANALYSIS \\n\",\"----------------------- \\n\",\"              by AM Scaranelo \\n\",\"Total Months = 86 \\n\",\"Total = $22,564,198.00 \\n\",\"Average Change: -$406,180.50 \\n\",\"Greatest Increase in Profits: Mar-10 $1,088,983.00 \\n\",\"Greatest Decrease in Profits: Feb-10  -$354,534.00 \\n\"]\n",
    "f.writelines(L)\n",
    "f.close()"
   ]
  },
  {
   "cell_type": "code",
   "execution_count": null,
   "id": "38567ef2",
   "metadata": {},
   "outputs": [],
   "source": []
  }
 ],
 "metadata": {
  "kernelspec": {
   "display_name": "PythonData",
   "language": "python",
   "name": "pythondata"
  },
  "language_info": {
   "codemirror_mode": {
    "name": "ipython",
    "version": 3
   },
   "file_extension": ".py",
   "mimetype": "text/x-python",
   "name": "python",
   "nbconvert_exporter": "python",
   "pygments_lexer": "ipython3",
   "version": "3.7.7"
  }
 },
 "nbformat": 4,
 "nbformat_minor": 5
}
